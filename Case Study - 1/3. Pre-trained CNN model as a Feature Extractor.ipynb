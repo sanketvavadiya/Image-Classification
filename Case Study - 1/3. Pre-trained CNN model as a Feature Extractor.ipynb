{
 "cells": [
  {
   "cell_type": "markdown",
   "metadata": {},
   "source": [
    "# VGG-16 model"
   ]
  },
  {
   "cell_type": "code",
   "execution_count": 1,
   "metadata": {},
   "outputs": [
    {
     "name": "stderr",
     "output_type": "stream",
     "text": [
      "Using TensorFlow backend.\n",
      "c:\\users\\sanke\\appdata\\local\\programs\\python\\python37\\lib\\site-packages\\tensorflow\\python\\framework\\dtypes.py:526: FutureWarning: Passing (type, 1) or '1type' as a synonym of type is deprecated; in a future version of numpy, it will be understood as (type, (1,)) / '(1,)type'.\n",
      "  _np_qint8 = np.dtype([(\"qint8\", np.int8, 1)])\n",
      "c:\\users\\sanke\\appdata\\local\\programs\\python\\python37\\lib\\site-packages\\tensorflow\\python\\framework\\dtypes.py:527: FutureWarning: Passing (type, 1) or '1type' as a synonym of type is deprecated; in a future version of numpy, it will be understood as (type, (1,)) / '(1,)type'.\n",
      "  _np_quint8 = np.dtype([(\"quint8\", np.uint8, 1)])\n",
      "c:\\users\\sanke\\appdata\\local\\programs\\python\\python37\\lib\\site-packages\\tensorflow\\python\\framework\\dtypes.py:528: FutureWarning: Passing (type, 1) or '1type' as a synonym of type is deprecated; in a future version of numpy, it will be understood as (type, (1,)) / '(1,)type'.\n",
      "  _np_qint16 = np.dtype([(\"qint16\", np.int16, 1)])\n",
      "c:\\users\\sanke\\appdata\\local\\programs\\python\\python37\\lib\\site-packages\\tensorflow\\python\\framework\\dtypes.py:529: FutureWarning: Passing (type, 1) or '1type' as a synonym of type is deprecated; in a future version of numpy, it will be understood as (type, (1,)) / '(1,)type'.\n",
      "  _np_quint16 = np.dtype([(\"quint16\", np.uint16, 1)])\n",
      "c:\\users\\sanke\\appdata\\local\\programs\\python\\python37\\lib\\site-packages\\tensorflow\\python\\framework\\dtypes.py:530: FutureWarning: Passing (type, 1) or '1type' as a synonym of type is deprecated; in a future version of numpy, it will be understood as (type, (1,)) / '(1,)type'.\n",
      "  _np_qint32 = np.dtype([(\"qint32\", np.int32, 1)])\n",
      "c:\\users\\sanke\\appdata\\local\\programs\\python\\python37\\lib\\site-packages\\tensorflow\\python\\framework\\dtypes.py:535: FutureWarning: Passing (type, 1) or '1type' as a synonym of type is deprecated; in a future version of numpy, it will be understood as (type, (1,)) / '(1,)type'.\n",
      "  np_resource = np.dtype([(\"resource\", np.ubyte, 1)])\n"
     ]
    }
   ],
   "source": [
    "from keras.applications import vgg16\n",
    "from keras.models import Model\n",
    "import keras"
   ]
  },
  {
   "cell_type": "code",
   "execution_count": 2,
   "metadata": {},
   "outputs": [],
   "source": [
    "batch_size = 30\n",
    "epochs = 30\n",
    "input_shape = (150, 150, 3)"
   ]
  },
  {
   "cell_type": "code",
   "execution_count": 3,
   "metadata": {
    "scrolled": false
   },
   "outputs": [
    {
     "name": "stdout",
     "output_type": "stream",
     "text": [
      "importing Jupyter notebook from Dataset_utils.ipynb\n"
     ]
    }
   ],
   "source": [
    "import import_ipynb\n",
    "from Dataset_utils import *\n",
    "\n",
    "train_imgs_scaled, validation_imgs_scaled = get_imgs_scaled()\n",
    "train_labels_enc, validation_labels_enc = get_labels_enc()"
   ]
  },
  {
   "cell_type": "code",
   "execution_count": 4,
   "metadata": {},
   "outputs": [
    {
     "name": "stdout",
     "output_type": "stream",
     "text": [
      "WARNING:tensorflow:From c:\\users\\sanke\\appdata\\local\\programs\\python\\python37\\lib\\site-packages\\tensorflow\\python\\framework\\op_def_library.py:263: colocate_with (from tensorflow.python.framework.ops) is deprecated and will be removed in a future version.\n",
      "Instructions for updating:\n",
      "Colocations handled automatically by placer.\n",
      "Downloading data from https://github.com/fchollet/deep-learning-models/releases/download/v0.1/vgg16_weights_tf_dim_ordering_tf_kernels_notop.h5\n",
      "58892288/58889256 [==============================] - 156s 3us/step\n"
     ]
    }
   ],
   "source": [
    "vgg = vgg16.VGG16(include_top=False, weights='imagenet', \n",
    "                                     input_shape=input_shape)"
   ]
  },
  {
   "cell_type": "code",
   "execution_count": 5,
   "metadata": {},
   "outputs": [],
   "source": [
    "output = vgg.layers[-1].output\n",
    "output = keras.layers.Flatten()(output)\n",
    "vgg_model = Model(vgg.input, output)"
   ]
  },
  {
   "cell_type": "code",
   "execution_count": 6,
   "metadata": {},
   "outputs": [
    {
     "name": "stderr",
     "output_type": "stream",
     "text": [
      "c:\\users\\sanke\\appdata\\local\\programs\\python\\python37\\lib\\site-packages\\ipykernel_launcher.py:6: FutureWarning: Passing a negative integer is deprecated in version 1.0 and will not be supported in future version. Instead, use None to not limit the column width.\n",
      "  \n"
     ]
    },
    {
     "data": {
      "text/html": [
       "<div>\n",
       "<style scoped>\n",
       "    .dataframe tbody tr th:only-of-type {\n",
       "        vertical-align: middle;\n",
       "    }\n",
       "\n",
       "    .dataframe tbody tr th {\n",
       "        vertical-align: top;\n",
       "    }\n",
       "\n",
       "    .dataframe thead th {\n",
       "        text-align: right;\n",
       "    }\n",
       "</style>\n",
       "<table border=\"1\" class=\"dataframe\">\n",
       "  <thead>\n",
       "    <tr style=\"text-align: right;\">\n",
       "      <th></th>\n",
       "      <th>Layer Type</th>\n",
       "      <th>Layer Name</th>\n",
       "      <th>Layer Trainable</th>\n",
       "    </tr>\n",
       "  </thead>\n",
       "  <tbody>\n",
       "    <tr>\n",
       "      <th>0</th>\n",
       "      <td>&lt;keras.engine.input_layer.InputLayer object at 0x000001CC45804D88&gt;</td>\n",
       "      <td>input_1</td>\n",
       "      <td>False</td>\n",
       "    </tr>\n",
       "    <tr>\n",
       "      <th>1</th>\n",
       "      <td>&lt;keras.layers.convolutional.Conv2D object at 0x000001CCCBB1B488&gt;</td>\n",
       "      <td>block1_conv1</td>\n",
       "      <td>False</td>\n",
       "    </tr>\n",
       "    <tr>\n",
       "      <th>2</th>\n",
       "      <td>&lt;keras.layers.convolutional.Conv2D object at 0x000001CCCBB97988&gt;</td>\n",
       "      <td>block1_conv2</td>\n",
       "      <td>False</td>\n",
       "    </tr>\n",
       "    <tr>\n",
       "      <th>3</th>\n",
       "      <td>&lt;keras.layers.pooling.MaxPooling2D object at 0x000001CCCBBE20C8&gt;</td>\n",
       "      <td>block1_pool</td>\n",
       "      <td>False</td>\n",
       "    </tr>\n",
       "    <tr>\n",
       "      <th>4</th>\n",
       "      <td>&lt;keras.layers.convolutional.Conv2D object at 0x000001CCCBBE27C8&gt;</td>\n",
       "      <td>block2_conv1</td>\n",
       "      <td>False</td>\n",
       "    </tr>\n",
       "    <tr>\n",
       "      <th>5</th>\n",
       "      <td>&lt;keras.layers.convolutional.Conv2D object at 0x000001CC458049C8&gt;</td>\n",
       "      <td>block2_conv2</td>\n",
       "      <td>False</td>\n",
       "    </tr>\n",
       "    <tr>\n",
       "      <th>6</th>\n",
       "      <td>&lt;keras.layers.pooling.MaxPooling2D object at 0x000001CCCBC50A08&gt;</td>\n",
       "      <td>block2_pool</td>\n",
       "      <td>False</td>\n",
       "    </tr>\n",
       "    <tr>\n",
       "      <th>7</th>\n",
       "      <td>&lt;keras.layers.convolutional.Conv2D object at 0x000001CCCBC503C8&gt;</td>\n",
       "      <td>block3_conv1</td>\n",
       "      <td>False</td>\n",
       "    </tr>\n",
       "    <tr>\n",
       "      <th>8</th>\n",
       "      <td>&lt;keras.layers.convolutional.Conv2D object at 0x000001CCCBC81908&gt;</td>\n",
       "      <td>block3_conv2</td>\n",
       "      <td>False</td>\n",
       "    </tr>\n",
       "    <tr>\n",
       "      <th>9</th>\n",
       "      <td>&lt;keras.layers.convolutional.Conv2D object at 0x000001CCCBCA10C8&gt;</td>\n",
       "      <td>block3_conv3</td>\n",
       "      <td>False</td>\n",
       "    </tr>\n",
       "    <tr>\n",
       "      <th>10</th>\n",
       "      <td>&lt;keras.layers.pooling.MaxPooling2D object at 0x000001CCCBCCAFC8&gt;</td>\n",
       "      <td>block3_pool</td>\n",
       "      <td>False</td>\n",
       "    </tr>\n",
       "    <tr>\n",
       "      <th>11</th>\n",
       "      <td>&lt;keras.layers.convolutional.Conv2D object at 0x000001CCCBCD4088&gt;</td>\n",
       "      <td>block4_conv1</td>\n",
       "      <td>False</td>\n",
       "    </tr>\n",
       "    <tr>\n",
       "      <th>12</th>\n",
       "      <td>&lt;keras.layers.convolutional.Conv2D object at 0x000001CC45A12D88&gt;</td>\n",
       "      <td>block4_conv2</td>\n",
       "      <td>False</td>\n",
       "    </tr>\n",
       "    <tr>\n",
       "      <th>13</th>\n",
       "      <td>&lt;keras.layers.convolutional.Conv2D object at 0x000001CCCBD26548&gt;</td>\n",
       "      <td>block4_conv3</td>\n",
       "      <td>False</td>\n",
       "    </tr>\n",
       "    <tr>\n",
       "      <th>14</th>\n",
       "      <td>&lt;keras.layers.pooling.MaxPooling2D object at 0x000001CCCBD4CE48&gt;</td>\n",
       "      <td>block4_pool</td>\n",
       "      <td>False</td>\n",
       "    </tr>\n",
       "    <tr>\n",
       "      <th>15</th>\n",
       "      <td>&lt;keras.layers.convolutional.Conv2D object at 0x000001CCCBD4C108&gt;</td>\n",
       "      <td>block5_conv1</td>\n",
       "      <td>False</td>\n",
       "    </tr>\n",
       "    <tr>\n",
       "      <th>16</th>\n",
       "      <td>&lt;keras.layers.convolutional.Conv2D object at 0x000001CCCBD88708&gt;</td>\n",
       "      <td>block5_conv2</td>\n",
       "      <td>False</td>\n",
       "    </tr>\n",
       "    <tr>\n",
       "      <th>17</th>\n",
       "      <td>&lt;keras.layers.convolutional.Conv2D object at 0x000001CCCBDA3888&gt;</td>\n",
       "      <td>block5_conv3</td>\n",
       "      <td>False</td>\n",
       "    </tr>\n",
       "    <tr>\n",
       "      <th>18</th>\n",
       "      <td>&lt;keras.layers.pooling.MaxPooling2D object at 0x000001CCCBDCD388&gt;</td>\n",
       "      <td>block5_pool</td>\n",
       "      <td>False</td>\n",
       "    </tr>\n",
       "    <tr>\n",
       "      <th>19</th>\n",
       "      <td>&lt;keras.layers.core.Flatten object at 0x000001CCCF695F08&gt;</td>\n",
       "      <td>flatten_1</td>\n",
       "      <td>False</td>\n",
       "    </tr>\n",
       "  </tbody>\n",
       "</table>\n",
       "</div>"
      ],
      "text/plain": [
       "                                                            Layer Type  \\\n",
       "0   <keras.engine.input_layer.InputLayer object at 0x000001CC45804D88>   \n",
       "1   <keras.layers.convolutional.Conv2D object at 0x000001CCCBB1B488>     \n",
       "2   <keras.layers.convolutional.Conv2D object at 0x000001CCCBB97988>     \n",
       "3   <keras.layers.pooling.MaxPooling2D object at 0x000001CCCBBE20C8>     \n",
       "4   <keras.layers.convolutional.Conv2D object at 0x000001CCCBBE27C8>     \n",
       "5   <keras.layers.convolutional.Conv2D object at 0x000001CC458049C8>     \n",
       "6   <keras.layers.pooling.MaxPooling2D object at 0x000001CCCBC50A08>     \n",
       "7   <keras.layers.convolutional.Conv2D object at 0x000001CCCBC503C8>     \n",
       "8   <keras.layers.convolutional.Conv2D object at 0x000001CCCBC81908>     \n",
       "9   <keras.layers.convolutional.Conv2D object at 0x000001CCCBCA10C8>     \n",
       "10  <keras.layers.pooling.MaxPooling2D object at 0x000001CCCBCCAFC8>     \n",
       "11  <keras.layers.convolutional.Conv2D object at 0x000001CCCBCD4088>     \n",
       "12  <keras.layers.convolutional.Conv2D object at 0x000001CC45A12D88>     \n",
       "13  <keras.layers.convolutional.Conv2D object at 0x000001CCCBD26548>     \n",
       "14  <keras.layers.pooling.MaxPooling2D object at 0x000001CCCBD4CE48>     \n",
       "15  <keras.layers.convolutional.Conv2D object at 0x000001CCCBD4C108>     \n",
       "16  <keras.layers.convolutional.Conv2D object at 0x000001CCCBD88708>     \n",
       "17  <keras.layers.convolutional.Conv2D object at 0x000001CCCBDA3888>     \n",
       "18  <keras.layers.pooling.MaxPooling2D object at 0x000001CCCBDCD388>     \n",
       "19  <keras.layers.core.Flatten object at 0x000001CCCF695F08>             \n",
       "\n",
       "      Layer Name  Layer Trainable  \n",
       "0   input_1       False            \n",
       "1   block1_conv1  False            \n",
       "2   block1_conv2  False            \n",
       "3   block1_pool   False            \n",
       "4   block2_conv1  False            \n",
       "5   block2_conv2  False            \n",
       "6   block2_pool   False            \n",
       "7   block3_conv1  False            \n",
       "8   block3_conv2  False            \n",
       "9   block3_conv3  False            \n",
       "10  block3_pool   False            \n",
       "11  block4_conv1  False            \n",
       "12  block4_conv2  False            \n",
       "13  block4_conv3  False            \n",
       "14  block4_pool   False            \n",
       "15  block5_conv1  False            \n",
       "16  block5_conv2  False            \n",
       "17  block5_conv3  False            \n",
       "18  block5_pool   False            \n",
       "19  flatten_1     False            "
      ]
     },
     "execution_count": 6,
     "metadata": {},
     "output_type": "execute_result"
    }
   ],
   "source": [
    "vgg_model.trainable = False\n",
    "for layer in vgg_model.layers:\n",
    "    layer.trainable = False\n",
    "    \n",
    "import pandas as pd\n",
    "pd.set_option('max_colwidth', -1)\n",
    "layers = [(layer, layer.name, layer.trainable) for layer in vgg_model.layers]\n",
    "pd.DataFrame(layers, columns=['Layer Type', 'Layer Name', 'Layer Trainable'])"
   ]
  },
  {
   "cell_type": "code",
   "execution_count": 7,
   "metadata": {},
   "outputs": [
    {
     "name": "stdout",
     "output_type": "stream",
     "text": [
      "(1, 4, 4, 512)\n"
     ]
    },
    {
     "data": {
      "text/plain": [
       "<matplotlib.image.AxesImage at 0x1cccbef26c8>"
      ]
     },
     "execution_count": 7,
     "metadata": {},
     "output_type": "execute_result"
    },
    {
     "data": {
      "image/png": "[encoded data removed]",
      "text/plain": [
       "<Figure size 432x288 with 1 Axes>"
      ]
     },
     "metadata": {
      "needs_background": "light"
     },
     "output_type": "display_data"
    }
   ],
   "source": [
    "import matplotlib.pyplot as plt\n",
    "%matplotlib inline\n",
    "\n",
    "bottleneck_feature_example = vgg.predict(train_imgs_scaled[0:1])\n",
    "print(bottleneck_feature_example.shape)\n",
    "plt.imshow(bottleneck_feature_example[0][:,:,0])"
   ]
  },
  {
   "cell_type": "code",
   "execution_count": 8,
   "metadata": {},
   "outputs": [],
   "source": [
    "def get_bottleneck_features(model, input_imgs):\n",
    "    features = model.predict(input_imgs, verbose=0)\n",
    "    return features"
   ]
  },
  {
   "cell_type": "code",
   "execution_count": 9,
   "metadata": {},
   "outputs": [
    {
     "name": "stdout",
     "output_type": "stream",
     "text": [
      "Train Bottleneck Features: (3000, 8192) \tValidation Bottleneck Features: (1000, 8192)\n"
     ]
    }
   ],
   "source": [
    "train_features_vgg = get_bottleneck_features(vgg_model, train_imgs_scaled)\n",
    "validation_features_vgg = get_bottleneck_features(vgg_model, validation_imgs_scaled)\n",
    "print('Train Bottleneck Features:', train_features_vgg.shape, \n",
    "      '\\tValidation Bottleneck Features:', validation_features_vgg.shape)"
   ]
  },
  {
   "cell_type": "code",
   "execution_count": 10,
   "metadata": {},
   "outputs": [],
   "source": [
    "from keras.layers import Conv2D, MaxPooling2D, Flatten, Dense, Dropout, InputLayer\n",
    "from keras.models import Sequential\n",
    "from keras import optimizers"
   ]
  },
  {
   "cell_type": "code",
   "execution_count": 11,
   "metadata": {},
   "outputs": [
    {
     "name": "stdout",
     "output_type": "stream",
     "text": [
      "WARNING:tensorflow:From c:\\users\\sanke\\appdata\\local\\programs\\python\\python37\\lib\\site-packages\\keras\\backend\\tensorflow_backend.py:3445: calling dropout (from tensorflow.python.ops.nn_ops) with keep_prob is deprecated and will be removed in a future version.\n",
      "Instructions for updating:\n",
      "Please use `rate` instead of `keep_prob`. Rate should be set to `rate = 1 - keep_prob`.\n"
     ]
    }
   ],
   "source": [
    "input_shape = vgg_model.output_shape[1]\n",
    "\n",
    "model = Sequential()\n",
    "model.add(InputLayer(input_shape=(input_shape,)))\n",
    "model.add(Dense(512, activation='relu', input_dim=input_shape))\n",
    "model.add(Dropout(0.3))\n",
    "model.add(Dense(512, activation='relu'))\n",
    "model.add(Dropout(0.3))\n",
    "model.add(Dense(1, activation='sigmoid'))"
   ]
  },
  {
   "cell_type": "code",
   "execution_count": 12,
   "metadata": {},
   "outputs": [],
   "source": [
    "model.compile(loss='binary_crossentropy',\n",
    "              optimizer=optimizers.RMSprop(lr=1e-4),\n",
    "              metrics=['accuracy'])"
   ]
  },
  {
   "cell_type": "code",
   "execution_count": 13,
   "metadata": {},
   "outputs": [
    {
     "name": "stdout",
     "output_type": "stream",
     "text": [
      "_________________________________________________________________\n",
      "Layer (type)                 Output Shape              Param #   \n",
      "=================================================================\n",
      "dense_1 (Dense)              (None, 512)               4194816   \n",
      "_________________________________________________________________\n",
      "dropout_1 (Dropout)          (None, 512)               0         \n",
      "_________________________________________________________________\n",
      "dense_2 (Dense)              (None, 512)               262656    \n",
      "_________________________________________________________________\n",
      "dropout_2 (Dropout)          (None, 512)               0         \n",
      "_________________________________________________________________\n",
      "dense_3 (Dense)              (None, 1)                 513       \n",
      "=================================================================\n",
      "Total params: 4,457,985\n",
      "Trainable params: 4,457,985\n",
      "Non-trainable params: 0\n",
      "_________________________________________________________________\n"
     ]
    }
   ],
   "source": [
    "model.summary()"
   ]
  },
  {
   "cell_type": "code",
   "execution_count": 14,
   "metadata": {},
   "outputs": [
    {
     "name": "stdout",
     "output_type": "stream",
     "text": [
      "WARNING:tensorflow:From c:\\users\\sanke\\appdata\\local\\programs\\python\\python37\\lib\\site-packages\\tensorflow\\python\\ops\\math_ops.py:3066: to_int32 (from tensorflow.python.ops.math_ops) is deprecated and will be removed in a future version.\n",
      "Instructions for updating:\n",
      "Use tf.cast instead.\n",
      "Train on 3000 samples, validate on 1000 samples\n",
      "Epoch 1/30\n",
      "3000/3000 [==============================] - 10s 3ms/step - loss: 0.4454 - acc: 0.7837 - val_loss: 0.3665 - val_acc: 0.8300\n",
      "Epoch 2/30\n",
      "3000/3000 [==============================] - 9s 3ms/step - loss: 0.2899 - acc: 0.8760 - val_loss: 0.2895 - val_acc: 0.8680\n",
      "Epoch 3/30\n",
      "3000/3000 [==============================] - 9s 3ms/step - loss: 0.2421 - acc: 0.9007 - val_loss: 0.2852 - val_acc: 0.8720\n",
      "Epoch 4/30\n",
      "3000/3000 [==============================] - 9s 3ms/step - loss: 0.1960 - acc: 0.9203 - val_loss: 0.2916 - val_acc: 0.8820\n",
      "Epoch 5/30\n",
      "3000/3000 [==============================] - 9s 3ms/step - loss: 0.1633 - acc: 0.9337 - val_loss: 0.3097 - val_acc: 0.8750\n",
      "Epoch 6/30\n",
      "3000/3000 [==============================] - 9s 3ms/step - loss: 0.1452 - acc: 0.9427 - val_loss: 0.3030 - val_acc: 0.8810\n",
      "Epoch 7/30\n",
      "3000/3000 [==============================] - 9s 3ms/step - loss: 0.1198 - acc: 0.9517 - val_loss: 0.3191 - val_acc: 0.8800\n",
      "Epoch 8/30\n",
      "3000/3000 [==============================] - 9s 3ms/step - loss: 0.1028 - acc: 0.9593 - val_loss: 0.3474 - val_acc: 0.8770\n",
      "Epoch 9/30\n",
      "3000/3000 [==============================] - 9s 3ms/step - loss: 0.0756 - acc: 0.9720 - val_loss: 0.3720 - val_acc: 0.8780\n",
      "Epoch 10/30\n",
      "3000/3000 [==============================] - 10s 3ms/step - loss: 0.0631 - acc: 0.9757 - val_loss: 0.7122 - val_acc: 0.8330\n",
      "Epoch 11/30\n",
      "3000/3000 [==============================] - 10s 3ms/step - loss: 0.0542 - acc: 0.9810 - val_loss: 0.7129 - val_acc: 0.8310\n",
      "Epoch 12/30\n",
      "3000/3000 [==============================] - 10s 3ms/step - loss: 0.0427 - acc: 0.9837 - val_loss: 0.4246 - val_acc: 0.8830\n",
      "Epoch 13/30\n",
      "3000/3000 [==============================] - 9s 3ms/step - loss: 0.0356 - acc: 0.9877 - val_loss: 0.4747 - val_acc: 0.8880\n",
      "Epoch 14/30\n",
      "3000/3000 [==============================] - 10s 3ms/step - loss: 0.0356 - acc: 0.9870 - val_loss: 0.4913 - val_acc: 0.8810\n",
      "Epoch 15/30\n",
      "3000/3000 [==============================] - 10s 3ms/step - loss: 0.0193 - acc: 0.9943 - val_loss: 0.5410 - val_acc: 0.8870\n",
      "Epoch 16/30\n",
      "3000/3000 [==============================] - 10s 3ms/step - loss: 0.0203 - acc: 0.9937 - val_loss: 0.6513 - val_acc: 0.8690\n",
      "Epoch 17/30\n",
      "3000/3000 [==============================] - 10s 3ms/step - loss: 0.0140 - acc: 0.9950 - val_loss: 0.6223 - val_acc: 0.8840\n",
      "Epoch 18/30\n",
      "3000/3000 [==============================] - 9s 3ms/step - loss: 0.0147 - acc: 0.9937 - val_loss: 0.6511 - val_acc: 0.8880\n",
      "Epoch 19/30\n",
      "3000/3000 [==============================] - 10s 3ms/step - loss: 0.0157 - acc: 0.9950 - val_loss: 0.6535 - val_acc: 0.8830\n",
      "Epoch 20/30\n",
      "3000/3000 [==============================] - 9s 3ms/step - loss: 0.0109 - acc: 0.9957 - val_loss: 0.6924 - val_acc: 0.8830\n",
      "Epoch 21/30\n",
      "3000/3000 [==============================] - 9s 3ms/step - loss: 0.0062 - acc: 0.9977 - val_loss: 0.8412 - val_acc: 0.8600\n",
      "Epoch 22/30\n",
      "3000/3000 [==============================] - 9s 3ms/step - loss: 0.0029 - acc: 0.9990 - val_loss: 0.7922 - val_acc: 0.8810\n",
      "Epoch 23/30\n",
      "3000/3000 [==============================] - 9s 3ms/step - loss: 0.0310 - acc: 0.9917 - val_loss: 0.7693 - val_acc: 0.8840\n",
      "Epoch 24/30\n",
      "3000/3000 [==============================] - 10s 3ms/step - loss: 0.0024 - acc: 0.9990 - val_loss: 0.7816 - val_acc: 0.8840\n",
      "Epoch 25/30\n",
      "3000/3000 [==============================] - 10s 3ms/step - loss: 0.0137 - acc: 0.9977 - val_loss: 0.8213 - val_acc: 0.8800\n",
      "Epoch 26/30\n",
      "3000/3000 [==============================] - 9s 3ms/step - loss: 0.0070 - acc: 0.9980 - val_loss: 0.8167 - val_acc: 0.8840\n",
      "Epoch 27/30\n",
      "3000/3000 [==============================] - 9s 3ms/step - loss: 0.0080 - acc: 0.9980 - val_loss: 0.8110 - val_acc: 0.8850\n",
      "Epoch 28/30\n",
      "3000/3000 [==============================] - 9s 3ms/step - loss: 0.0022 - acc: 0.9993 - val_loss: 0.8787 - val_acc: 0.8790\n",
      "Epoch 29/30\n",
      "3000/3000 [==============================] - 9s 3ms/step - loss: 0.0116 - acc: 0.9967 - val_loss: 0.9105 - val_acc: 0.8800\n",
      "Epoch 30/30\n",
      "3000/3000 [==============================] - 9s 3ms/step - loss: 0.0013 - acc: 0.9993 - val_loss: 0.9114 - val_acc: 0.8860\n"
     ]
    }
   ],
   "source": [
    "history = model.fit(x=train_features_vgg, y=train_labels_enc,\n",
    "                    validation_data=(validation_features_vgg, validation_labels_enc),\n",
    "                    batch_size=batch_size,\n",
    "                    epochs=epochs,\n",
    "                    verbose=1)"
   ]
  },
  {
   "cell_type": "code",
   "execution_count": 15,
   "metadata": {},
   "outputs": [],
   "source": [
    "# save model\n",
    "model.save('pre_trained_tlearn.h5')\n",
    "# save history\n",
    "import pickle\n",
    "f = open('pre_trained_tlearn.pckl', 'wb')\n",
    "pickle.dump(history.history, f)\n",
    "f.close()"
   ]
  },
  {
   "cell_type": "code",
   "execution_count": 16,
   "metadata": {},
   "outputs": [],
   "source": [
    "# load history\n",
    "import pickle\n",
    "file = 'pre_trained_tlearn.pckl'\n",
    "f = open(file, 'rb')\n",
    "hist = pickle.load(f)\n",
    "f.close()"
   ]
  },
  {
   "cell_type": "code",
   "execution_count": 17,
   "metadata": {},
   "outputs": [
    {
     "name": "stdout",
     "output_type": "stream",
     "text": [
      "importing Jupyter notebook from model_summary.ipynb\n"
     ]
    },
    {
     "data": {
      "image/png": "[encoded data removed]",
      "text/plain": [
       "<Figure size 864x288 with 2 Axes>"
      ]
     },
     "metadata": {
      "needs_background": "light"
     },
     "output_type": "display_data"
    }
   ],
   "source": [
    "# plot graph\n",
    "import import_ipynb\n",
    "from model_summary import *\n",
    "performance = 'Pre-trained CNN(Transfer learning) performance'\n",
    "plot_graph(performance, hist, 30)"
   ]
  }
 ],
 "metadata": {
  "kernelspec": {
   "display_name": "Python 3",
   "language": "python",
   "name": "python3"
  },
  "language_info": {
   "codemirror_mode": {
    "name": "ipython",
    "version": 3
   },
   "file_extension": ".py",
   "mimetype": "text/x-python",
   "name": "python",
   "nbconvert_exporter": "python",
   "pygments_lexer": "ipython3",
   "version": "3.7.6"
  }
 },
 "nbformat": 4,
 "nbformat_minor": 4
}
