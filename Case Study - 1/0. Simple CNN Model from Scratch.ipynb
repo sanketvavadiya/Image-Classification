{
 "cells": [
  {
   "cell_type": "markdown",
   "metadata": {},
   "source": [
    "tensorflow version: 1.13.1\n",
    "keras version: 2.2.4"
   ]
  },
  {
   "cell_type": "code",
   "execution_count": 1,
   "metadata": {},
   "outputs": [
    {
     "name": "stderr",
     "output_type": "stream",
     "text": [
      "Using TensorFlow backend.\n",
      "c:\\users\\sanke\\appdata\\local\\programs\\python\\python37\\lib\\site-packages\\tensorflow\\python\\framework\\dtypes.py:526: FutureWarning: Passing (type, 1) or '1type' as a synonym of type is deprecated; in a future version of numpy, it will be understood as (type, (1,)) / '(1,)type'.\n",
      "  _np_qint8 = np.dtype([(\"qint8\", np.int8, 1)])\n",
      "c:\\users\\sanke\\appdata\\local\\programs\\python\\python37\\lib\\site-packages\\tensorflow\\python\\framework\\dtypes.py:527: FutureWarning: Passing (type, 1) or '1type' as a synonym of type is deprecated; in a future version of numpy, it will be understood as (type, (1,)) / '(1,)type'.\n",
      "  _np_quint8 = np.dtype([(\"quint8\", np.uint8, 1)])\n",
      "c:\\users\\sanke\\appdata\\local\\programs\\python\\python37\\lib\\site-packages\\tensorflow\\python\\framework\\dtypes.py:528: FutureWarning: Passing (type, 1) or '1type' as a synonym of type is deprecated; in a future version of numpy, it will be understood as (type, (1,)) / '(1,)type'.\n",
      "  _np_qint16 = np.dtype([(\"qint16\", np.int16, 1)])\n",
      "c:\\users\\sanke\\appdata\\local\\programs\\python\\python37\\lib\\site-packages\\tensorflow\\python\\framework\\dtypes.py:529: FutureWarning: Passing (type, 1) or '1type' as a synonym of type is deprecated; in a future version of numpy, it will be understood as (type, (1,)) / '(1,)type'.\n",
      "  _np_quint16 = np.dtype([(\"quint16\", np.uint16, 1)])\n",
      "c:\\users\\sanke\\appdata\\local\\programs\\python\\python37\\lib\\site-packages\\tensorflow\\python\\framework\\dtypes.py:530: FutureWarning: Passing (type, 1) or '1type' as a synonym of type is deprecated; in a future version of numpy, it will be understood as (type, (1,)) / '(1,)type'.\n",
      "  _np_qint32 = np.dtype([(\"qint32\", np.int32, 1)])\n",
      "c:\\users\\sanke\\appdata\\local\\programs\\python\\python37\\lib\\site-packages\\tensorflow\\python\\framework\\dtypes.py:535: FutureWarning: Passing (type, 1) or '1type' as a synonym of type is deprecated; in a future version of numpy, it will be understood as (type, (1,)) / '(1,)type'.\n",
      "  np_resource = np.dtype([(\"resource\", np.ubyte, 1)])\n"
     ]
    }
   ],
   "source": [
    "from keras.layers import Conv2D, MaxPooling2D, Flatten, Dense, Dropout\n",
    "from keras.models import Sequential\n",
    "from keras import optimizers"
   ]
  },
  {
   "cell_type": "code",
   "execution_count": 2,
   "metadata": {},
   "outputs": [],
   "source": [
    "batch_size = 30\n",
    "num_classes = 2\n",
    "epochs = 30\n",
    "input_shape = (150, 150, 3)"
   ]
  },
  {
   "cell_type": "code",
   "execution_count": 3,
   "metadata": {},
   "outputs": [
    {
     "name": "stdout",
     "output_type": "stream",
     "text": [
      "WARNING:tensorflow:From c:\\users\\sanke\\appdata\\local\\programs\\python\\python37\\lib\\site-packages\\tensorflow\\python\\framework\\op_def_library.py:263: colocate_with (from tensorflow.python.framework.ops) is deprecated and will be removed in a future version.\n",
      "Instructions for updating:\n",
      "Colocations handled automatically by placer.\n"
     ]
    }
   ],
   "source": [
    "model = Sequential()\n",
    "\n",
    "model.add(Conv2D(16, kernel_size=(3, 3), activation='relu', \n",
    "                 input_shape=input_shape))\n",
    "model.add(MaxPooling2D(pool_size=(2, 2)))\n",
    "\n",
    "model.add(Conv2D(64, kernel_size=(3, 3), activation='relu'))\n",
    "model.add(MaxPooling2D(pool_size=(2, 2)))\n",
    "\n",
    "model.add(Conv2D(128, kernel_size=(3, 3), activation='relu'))\n",
    "model.add(MaxPooling2D(pool_size=(2, 2)))\n",
    "\n",
    "model.add(Flatten())\n",
    "model.add(Dense(512, activation='relu'))\n",
    "model.add(Dense(1, activation='sigmoid'))"
   ]
  },
  {
   "cell_type": "code",
   "execution_count": 4,
   "metadata": {},
   "outputs": [],
   "source": [
    "model.compile(loss='binary_crossentropy',\n",
    "              optimizer=optimizers.RMSprop(),\n",
    "              metrics=['accuracy'])"
   ]
  },
  {
   "cell_type": "code",
   "execution_count": 5,
   "metadata": {},
   "outputs": [
    {
     "name": "stdout",
     "output_type": "stream",
     "text": [
      "_________________________________________________________________\n",
      "Layer (type)                 Output Shape              Param #   \n",
      "=================================================================\n",
      "conv2d_1 (Conv2D)            (None, 148, 148, 16)      448       \n",
      "_________________________________________________________________\n",
      "max_pooling2d_1 (MaxPooling2 (None, 74, 74, 16)        0         \n",
      "_________________________________________________________________\n",
      "conv2d_2 (Conv2D)            (None, 72, 72, 64)        9280      \n",
      "_________________________________________________________________\n",
      "max_pooling2d_2 (MaxPooling2 (None, 36, 36, 64)        0         \n",
      "_________________________________________________________________\n",
      "conv2d_3 (Conv2D)            (None, 34, 34, 128)       73856     \n",
      "_________________________________________________________________\n",
      "max_pooling2d_3 (MaxPooling2 (None, 17, 17, 128)       0         \n",
      "_________________________________________________________________\n",
      "flatten_1 (Flatten)          (None, 36992)             0         \n",
      "_________________________________________________________________\n",
      "dense_1 (Dense)              (None, 512)               18940416  \n",
      "_________________________________________________________________\n",
      "dense_2 (Dense)              (None, 1)                 513       \n",
      "=================================================================\n",
      "Total params: 19,024,513\n",
      "Trainable params: 19,024,513\n",
      "Non-trainable params: 0\n",
      "_________________________________________________________________\n"
     ]
    }
   ],
   "source": [
    "model.summary()"
   ]
  },
  {
   "cell_type": "markdown",
   "metadata": {},
   "source": [
    "importing dataset from Dataset_utils"
   ]
  },
  {
   "cell_type": "code",
   "execution_count": 6,
   "metadata": {},
   "outputs": [
    {
     "name": "stdout",
     "output_type": "stream",
     "text": [
      "importing Jupyter notebook from Dataset_utils.ipynb\n"
     ]
    }
   ],
   "source": [
    "import import_ipynb\n",
    "from Dataset_utils import *"
   ]
  },
  {
   "cell_type": "code",
   "execution_count": 7,
   "metadata": {},
   "outputs": [
    {
     "name": "stdout",
     "output_type": "stream",
     "text": [
      "WARNING:tensorflow:From c:\\users\\sanke\\appdata\\local\\programs\\python\\python37\\lib\\site-packages\\tensorflow\\python\\ops\\math_ops.py:3066: to_int32 (from tensorflow.python.ops.math_ops) is deprecated and will be removed in a future version.\n",
      "Instructions for updating:\n",
      "Use tf.cast instead.\n",
      "Train on 3000 samples, validate on 1000 samples\n",
      "Epoch 1/30\n",
      "3000/3000 [==============================] - 177s 59ms/step - loss: 0.7890 - acc: 0.5473 - val_loss: 0.6513 - val_acc: 0.6160\n",
      "Epoch 2/30\n",
      "3000/3000 [==============================] - 158s 53ms/step - loss: 0.6537 - acc: 0.6407 - val_loss: 0.5621 - val_acc: 0.7230\n",
      "Epoch 3/30\n",
      "3000/3000 [==============================] - 148s 49ms/step - loss: 0.5716 - acc: 0.7120 - val_loss: 0.6640 - val_acc: 0.6570\n",
      "Epoch 4/30\n",
      "3000/3000 [==============================] - 146s 49ms/step - loss: 0.4904 - acc: 0.7683 - val_loss: 0.5835 - val_acc: 0.7110\n",
      "Epoch 5/30\n",
      "3000/3000 [==============================] - 151s 50ms/step - loss: 0.4223 - acc: 0.8037 - val_loss: 0.6541 - val_acc: 0.6930\n",
      "Epoch 6/30\n",
      "3000/3000 [==============================] - 168s 56ms/step - loss: 0.3307 - acc: 0.8500 - val_loss: 0.7777 - val_acc: 0.7050\n",
      "Epoch 7/30\n",
      "3000/3000 [==============================] - 154s 51ms/step - loss: 0.2480 - acc: 0.9020 - val_loss: 0.7850 - val_acc: 0.7430\n",
      "Epoch 8/30\n",
      "3000/3000 [==============================] - 151s 50ms/step - loss: 0.1753 - acc: 0.9320 - val_loss: 1.0373 - val_acc: 0.7090\n",
      "Epoch 9/30\n",
      "3000/3000 [==============================] - 147s 49ms/step - loss: 0.1209 - acc: 0.9567 - val_loss: 1.0061 - val_acc: 0.7320\n",
      "Epoch 10/30\n",
      "3000/3000 [==============================] - 147s 49ms/step - loss: 0.0798 - acc: 0.9697 - val_loss: 1.4410 - val_acc: 0.6650\n",
      "Epoch 11/30\n",
      "3000/3000 [==============================] - 140s 47ms/step - loss: 0.1064 - acc: 0.9733 - val_loss: 1.5800 - val_acc: 0.7160\n",
      "Epoch 12/30\n",
      "3000/3000 [==============================] - 140s 47ms/step - loss: 0.1335 - acc: 0.9723 - val_loss: 1.4526 - val_acc: 0.7220\n",
      "Epoch 13/30\n",
      "3000/3000 [==============================] - 140s 47ms/step - loss: 0.1037 - acc: 0.9870 - val_loss: 1.9688 - val_acc: 0.7220\n",
      "Epoch 14/30\n",
      "3000/3000 [==============================] - 140s 47ms/step - loss: 0.1078 - acc: 0.9747 - val_loss: 1.5522 - val_acc: 0.7260\n",
      "Epoch 15/30\n",
      "3000/3000 [==============================] - 140s 47ms/step - loss: 0.0493 - acc: 0.9870 - val_loss: 1.5014 - val_acc: 0.7210\n",
      "Epoch 16/30\n",
      "3000/3000 [==============================] - 140s 47ms/step - loss: 0.1105 - acc: 0.9787 - val_loss: 2.0555 - val_acc: 0.7160\n",
      "Epoch 17/30\n",
      "3000/3000 [==============================] - 140s 47ms/step - loss: 0.0653 - acc: 0.9810 - val_loss: 2.1343 - val_acc: 0.7290\n",
      "Epoch 18/30\n",
      "3000/3000 [==============================] - 140s 47ms/step - loss: 0.1382 - acc: 0.9753 - val_loss: 1.4561 - val_acc: 0.7160\n",
      "Epoch 19/30\n",
      "3000/3000 [==============================] - 142s 47ms/step - loss: 0.0303 - acc: 0.9950 - val_loss: 4.4801 - val_acc: 0.5580\n",
      "Epoch 20/30\n",
      "3000/3000 [==============================] - 147s 49ms/step - loss: 0.0645 - acc: 0.9903 - val_loss: 2.3651 - val_acc: 0.7080\n",
      "Epoch 21/30\n",
      "3000/3000 [==============================] - 147s 49ms/step - loss: 0.1289 - acc: 0.9780 - val_loss: 3.0015 - val_acc: 0.7200\n",
      "Epoch 22/30\n",
      "3000/3000 [==============================] - 150s 50ms/step - loss: 0.0491 - acc: 0.9877 - val_loss: 2.3753 - val_acc: 0.7210\n",
      "Epoch 23/30\n",
      "3000/3000 [==============================] - 148s 49ms/step - loss: 0.1406 - acc: 0.9817 - val_loss: 2.4996 - val_acc: 0.7160\n",
      "Epoch 24/30\n",
      "3000/3000 [==============================] - 148s 49ms/step - loss: 0.0674 - acc: 0.9863 - val_loss: 2.5218 - val_acc: 0.7140\n",
      "Epoch 25/30\n",
      "3000/3000 [==============================] - 147s 49ms/step - loss: 0.0436 - acc: 0.9953 - val_loss: 2.3678 - val_acc: 0.6900\n",
      "Epoch 26/30\n",
      "3000/3000 [==============================] - 143s 48ms/step - loss: 0.1081 - acc: 0.9820 - val_loss: 2.5647 - val_acc: 0.7040\n",
      "Epoch 27/30\n",
      "3000/3000 [==============================] - 141s 47ms/step - loss: 0.1033 - acc: 0.9850 - val_loss: 2.6556 - val_acc: 0.7140\n",
      "Epoch 28/30\n",
      "3000/3000 [==============================] - 141s 47ms/step - loss: 0.0564 - acc: 0.9923 - val_loss: 2.5083 - val_acc: 0.6990\n",
      "Epoch 29/30\n",
      "3000/3000 [==============================] - 141s 47ms/step - loss: 0.0303 - acc: 0.9943 - val_loss: 2.6441 - val_acc: 0.7220\n",
      "Epoch 30/30\n",
      "3000/3000 [==============================] - 141s 47ms/step - loss: 0.0978 - acc: 0.9897 - val_loss: 6.2501 - val_acc: 0.5660\n"
     ]
    }
   ],
   "source": [
    "history = model.fit(x=train_imgs_scaled, y=train_labels_enc,\n",
    "                    validation_data=(validation_imgs_scaled, validation_labels_enc),\n",
    "                    batch_size=batch_size,\n",
    "                    epochs=epochs,\n",
    "                    verbose=1)"
   ]
  },
  {
   "cell_type": "markdown",
   "metadata": {},
   "source": [
    "import pickle\n",
    "f = open('simple_cnn_model.pckl', 'wb')\n",
    "pickle.dump(history.history, f)\n",
    "f.close()"
   ]
  },
  {
   "cell_type": "code",
   "execution_count": 1,
   "metadata": {},
   "outputs": [],
   "source": [
    "import pickle\n",
    "file = 'simple_cnn_model.pckl'\n",
    "f = open(file, 'rb')\n",
    "hist = pickle.load(f)\n",
    "f.close()"
   ]
  },
  {
   "cell_type": "code",
   "execution_count": 2,
   "metadata": {},
   "outputs": [
    {
     "name": "stdout",
     "output_type": "stream",
     "text": [
      "importing Jupyter notebook from model_summary.ipynb\n"
     ]
    }
   ],
   "source": [
    "import import_ipynb\n",
    "from model_summary import *"
   ]
  },
  {
   "cell_type": "code",
   "execution_count": 3,
   "metadata": {},
   "outputs": [
    {
     "data": {
      "image/png": "[encoded data removed]",
      "text/plain": [
       "<Figure size 864x288 with 2 Axes>"
      ]
     },
     "metadata": {
      "needs_background": "light"
     },
     "output_type": "display_data"
    }
   ],
   "source": [
    "performance = 'Performance simple CNN'\n",
    "plot_graph(performance, hist, 30)"
   ]
  }
 ],
 "metadata": {
  "kernelspec": {
   "display_name": "Python 3",
   "language": "python",
   "name": "python3"
  },
  "language_info": {
   "codemirror_mode": {
    "name": "ipython",
    "version": 3
   },
   "file_extension": ".py",
   "mimetype": "text/x-python",
   "name": "python",
   "nbconvert_exporter": "python",
   "pygments_lexer": "ipython3",
   "version": "3.7.6"
  }
 },
 "nbformat": 4,
 "nbformat_minor": 4
}
